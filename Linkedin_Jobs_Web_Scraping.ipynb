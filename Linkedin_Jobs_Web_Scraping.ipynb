{
  "nbformat": 4,
  "nbformat_minor": 0,
  "metadata": {
    "colab": {
      "provenance": [],
      "authorship_tag": "ABX9TyPxfVH0nJz+jtEeC+Wv1p0b",
      "include_colab_link": true
    },
    "kernelspec": {
      "name": "python3",
      "display_name": "Python 3"
    },
    "language_info": {
      "name": "python"
    }
  },
  "cells": [
    {
      "cell_type": "markdown",
      "metadata": {
        "id": "view-in-github",
        "colab_type": "text"
      },
      "source": [
        "<a href=\"https://colab.research.google.com/github/singhdeepak2257/Linkedin_Jobs_Scraping/blob/main/Linkedin_Jobs_Web_Scraping.ipynb\" target=\"_parent\"><img src=\"https://colab.research.google.com/assets/colab-badge.svg\" alt=\"Open In Colab\"/></a>"
      ]
    },
    {
      "cell_type": "code",
      "execution_count": null,
      "metadata": {
        "id": "JcLN8S2CedCD"
      },
      "outputs": [],
      "source": [
        "# importing required modules\n",
        "import os\n",
        "import csv\n",
        "from bs4 import BeautifulSoup\n",
        "import requests\n",
        "import html5lib"
      ]
    },
    {
      "cell_type": "code",
      "source": [
        "#connecting to website"
      ],
      "metadata": {
        "id": "8GSxWCJoe4db"
      },
      "execution_count": null,
      "outputs": []
    },
    {
      "cell_type": "code",
      "source": [
        "URL='https://www.linkedin.com/jobs/search?keywords=python%20job&location=United%20States&geoId=103644278&trk=public_jobs_jobs-search-bar_search-submit&position=1&pageNum=0'\n",
        "page = requests.get(URL)\n",
        "soup1= BeautifulSoup(page.content, 'html.parser')\n",
        "soup2= BeautifulSoup(soup1.prettify(), 'html.parser')\n",
        "Deepak=soup2.find_all('a')\n",
        "Python_Jobs=set()\n",
        "\n",
        "# add href links to above defined Set\n",
        "\n",
        "for i in Deepak:\n",
        "    href=i.get(\"href\")\n",
        "    if href is not None:\n",
        "       Python_Jobs.add(href)\n",
        " "
      ],
      "metadata": {
        "id": "Jl1chFs7gdhc"
      },
      "execution_count": null,
      "outputs": []
    },
    {
      "cell_type": "code",
      "source": [
        "# Storing the links in a CSV file"
      ],
      "metadata": {
        "id": "iP26EvkUxqOz"
      },
      "execution_count": null,
      "outputs": []
    },
    {
      "cell_type": "code",
      "source": [
        "with open('python_jobs.csv', mode='w', newline='') as file:\n",
        "    writer = csv.writer(file)\n",
        "    for link in Python_Jobs:\n",
        "        writer.writerow([link])"
      ],
      "metadata": {
        "id": "4EZ2KriMXXLT"
      },
      "execution_count": null,
      "outputs": []
    },
    {
      "cell_type": "code",
      "source": [
        "# To check if the CSV file has been created, you can run the following code in a new cell in your Colab notebook:"
      ],
      "metadata": {
        "id": "h2RAXtOVyhN8"
      },
      "execution_count": null,
      "outputs": []
    },
    {
      "cell_type": "code",
      "source": [
        "if os.path.exists('python_jobs.csv'):\n",
        "    print('CSV file exists')\n",
        "else:\n",
        "    print('CSV file does not exist')"
      ],
      "metadata": {
        "colab": {
          "base_uri": "https://localhost:8080/"
        },
        "id": "lj4b7UaKyjHg",
        "outputId": "b18f5730-2dd5-494d-818d-43c75e35a5d6"
      },
      "execution_count": null,
      "outputs": [
        {
          "output_type": "stream",
          "name": "stdout",
          "text": [
            "CSV file exists\n"
          ]
        }
      ]
    },
    {
      "cell_type": "code",
      "source": [
        "# download the CSV file to your local machine."
      ],
      "metadata": {
        "id": "pog8fln0y4x7"
      },
      "execution_count": null,
      "outputs": []
    },
    {
      "cell_type": "code",
      "source": [
        "from google.colab import files\n",
        "\n",
        "files.download('python_jobs.csv')"
      ],
      "metadata": {
        "colab": {
          "base_uri": "https://localhost:8080/",
          "height": 17
        },
        "id": "eJuWgnnzy7IX",
        "outputId": "d87fee48-f372-4476-a47b-05f1ac18eade"
      },
      "execution_count": null,
      "outputs": [
        {
          "output_type": "display_data",
          "data": {
            "text/plain": [
              "<IPython.core.display.Javascript object>"
            ],
            "application/javascript": [
              "\n",
              "    async function download(id, filename, size) {\n",
              "      if (!google.colab.kernel.accessAllowed) {\n",
              "        return;\n",
              "      }\n",
              "      const div = document.createElement('div');\n",
              "      const label = document.createElement('label');\n",
              "      label.textContent = `Downloading \"${filename}\": `;\n",
              "      div.appendChild(label);\n",
              "      const progress = document.createElement('progress');\n",
              "      progress.max = size;\n",
              "      div.appendChild(progress);\n",
              "      document.body.appendChild(div);\n",
              "\n",
              "      const buffers = [];\n",
              "      let downloaded = 0;\n",
              "\n",
              "      const channel = await google.colab.kernel.comms.open(id);\n",
              "      // Send a message to notify the kernel that we're ready.\n",
              "      channel.send({})\n",
              "\n",
              "      for await (const message of channel.messages) {\n",
              "        // Send a message to notify the kernel that we're ready.\n",
              "        channel.send({})\n",
              "        if (message.buffers) {\n",
              "          for (const buffer of message.buffers) {\n",
              "            buffers.push(buffer);\n",
              "            downloaded += buffer.byteLength;\n",
              "            progress.value = downloaded;\n",
              "          }\n",
              "        }\n",
              "      }\n",
              "      const blob = new Blob(buffers, {type: 'application/binary'});\n",
              "      const a = document.createElement('a');\n",
              "      a.href = window.URL.createObjectURL(blob);\n",
              "      a.download = filename;\n",
              "      div.appendChild(a);\n",
              "      a.click();\n",
              "      div.remove();\n",
              "    }\n",
              "  "
            ]
          },
          "metadata": {}
        },
        {
          "output_type": "display_data",
          "data": {
            "text/plain": [
              "<IPython.core.display.Javascript object>"
            ],
            "application/javascript": [
              "download(\"download_bc05fb5c-f37c-4dc6-aa37-8481864b25f5\", \"python_jobs.csv\", 11244)"
            ]
          },
          "metadata": {}
        }
      ]
    }
  ]
}